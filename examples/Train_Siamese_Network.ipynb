{
  "nbformat": 4,
  "nbformat_minor": 0,
  "metadata": {
    "colab": {
      "name": "Train Siamese Network.ipynb",
      "version": "0.3.2",
      "provenance": [],
      "collapsed_sections": [],
      "include_colab_link": true
    },
    "kernelspec": {
      "display_name": "Python 3",
      "language": "python",
      "name": "python3"
    },
    "accelerator": "GPU"
  },
  "cells": [
    {
      "cell_type": "markdown",
      "metadata": {
        "id": "view-in-github",
        "colab_type": "text"
      },
      "source": [
        "[View in Colaboratory](https://colab.research.google.com/github/Kaliostrogoblin/PDD/blob/master/examples/Train_Siamese_Network.ipynb)"
      ]
    },
    {
      "metadata": {
        "id": "xcqDzlMTc1Xb",
        "colab_type": "code",
        "colab": {}
      },
      "cell_type": "code",
      "source": [
        "import numpy as np\n",
        "\n",
        "np.random.seed(13)"
      ],
      "execution_count": 0,
      "outputs": []
    },
    {
      "metadata": {
        "id": "VKEiGYnzc5fH",
        "colab_type": "code",
        "colab": {
          "base_uri": "https://localhost:8080/",
          "height": 118
        },
        "outputId": "723bd7ce-b7db-470d-d303-e486bdf0589b"
      },
      "cell_type": "code",
      "source": [
        "!rm -r -f PDD\n",
        "!git clone https://github.com/Kaliostrogoblin/PDD.git"
      ],
      "execution_count": 3,
      "outputs": [
        {
          "output_type": "stream",
          "text": [
            "Cloning into 'PDD'...\n",
            "remote: Counting objects: 117, done.\u001b[K\n",
            "remote: Compressing objects: 100% (88/88), done.\u001b[K\n",
            "remote: Total 117 (delta 62), reused 78 (delta 27), pack-reused 0\u001b[K\n",
            "Receiving objects: 100% (117/117), 22.29 KiB | 7.43 MiB/s, done.\n",
            "Resolving deltas: 100% (62/62), done.\n"
          ],
          "name": "stdout"
        }
      ]
    },
    {
      "metadata": {
        "id": "yyuo6kdrn0ZQ",
        "colab_type": "code",
        "colab": {}
      },
      "cell_type": "code",
      "source": [
        "import os\n",
        "os.chdir('../')"
      ],
      "execution_count": 0,
      "outputs": []
    },
    {
      "metadata": {
        "id": "qko1eieXbXta",
        "colab_type": "code",
        "colab": {
          "base_uri": "https://localhost:8080/",
          "height": 34
        },
        "outputId": "0400e59c-23a7-41c5-e343-5f29d2ff4420"
      },
      "cell_type": "code",
      "source": [
        "import os\n",
        "os.chdir('PDD')\n",
        "os.listdir()"
      ],
      "execution_count": 4,
      "outputs": [
        {
          "output_type": "execute_result",
          "data": {
            "text/plain": [
              "['.gitignore', 'examples', 'README.md', '.git', 'pdd']"
            ]
          },
          "metadata": {
            "tags": []
          },
          "execution_count": 4
        }
      ]
    },
    {
      "metadata": {
        "id": "mzeAAMVebk27",
        "colab_type": "code",
        "colab": {
          "base_uri": "https://localhost:8080/",
          "height": 67
        },
        "outputId": "62d1ebfb-0825-4714-9ff8-d5b7a9a1d9c7"
      },
      "cell_type": "code",
      "source": [
        "from pdd.datasets.grape import load_data\n",
        "\n",
        "train_data_path, test_data_path = load_data(split_on_train_test=True, random_state=13)"
      ],
      "execution_count": 5,
      "outputs": [
        {
          "output_type": "stream",
          "text": [
            "Using TensorFlow backend.\n",
            "100%|██████████████████████| 5/5 [00:00<00:00, 48.99it/s]"
          ],
          "name": "stderr"
        },
        {
          "output_type": "stream",
          "text": [
            "Splitting on train and test...\n"
          ],
          "name": "stdout"
        },
        {
          "output_type": "stream",
          "text": [
            "\n"
          ],
          "name": "stderr"
        }
      ]
    },
    {
      "metadata": {
        "id": "Gg4HAly4duNq",
        "colab_type": "code",
        "colab": {}
      },
      "cell_type": "code",
      "source": [
        "from pdd.models import get_feature_extractor\n",
        "from pdd.models import make_siamese\n",
        "import keras.backend as K\n",
        "import tensorflow as tf\n",
        "\n",
        "sess = tf.Session()\n",
        "K.set_session(sess)"
      ],
      "execution_count": 0,
      "outputs": []
    },
    {
      "metadata": {
        "id": "1dlZXUPReNMA",
        "colab_type": "code",
        "colab": {
          "base_uri": "https://localhost:8080/",
          "height": 336
        },
        "outputId": "b4e56264-cc06-49c8-afc3-b807c0a1be5c"
      },
      "cell_type": "code",
      "source": [
        "input_shape = (256, 256, 3)\n",
        "\n",
        "print(\"Building feature extractor...\")\n",
        "feature_extractor = get_feature_extractor(input_shape)\n",
        "\n",
        "print(\"Constructing siamese network...\")\n",
        "siams = make_siamese(feature_extractor, dist='l1', loss='contrastive')\n",
        "siams.summary()"
      ],
      "execution_count": 7,
      "outputs": [
        {
          "output_type": "stream",
          "text": [
            "Building feature extractor...\n",
            "Constructing siamese network...\n",
            "__________________________________________________________________________________________________\n",
            "Layer (type)                    Output Shape         Param #     Connected to                     \n",
            "==================================================================================================\n",
            "input_2 (InputLayer)            (None, 256, 256, 3)  0                                            \n",
            "__________________________________________________________________________________________________\n",
            "input_3 (InputLayer)            (None, 256, 256, 3)  0                                            \n",
            "__________________________________________________________________________________________________\n",
            "model_1 (Model)                 (None, 1024)         14902496    input_2[0][0]                    \n",
            "                                                                 input_3[0][0]                    \n",
            "__________________________________________________________________________________________________\n",
            "lambda_1 (Lambda)               (None, 1)            0           model_1[1][0]                    \n",
            "                                                                 model_1[2][0]                    \n",
            "==================================================================================================\n",
            "Total params: 14,902,496\n",
            "Trainable params: 14,900,512\n",
            "Non-trainable params: 1,984\n",
            "__________________________________________________________________________________________________\n"
          ],
          "name": "stdout"
        }
      ]
    },
    {
      "metadata": {
        "id": "tjJ1yf3ppqgs",
        "colab_type": "code",
        "colab": {}
      },
      "cell_type": "code",
      "source": [
        "from pdd.utils.training import SiameseBatchGenerator"
      ],
      "execution_count": 0,
      "outputs": []
    },
    {
      "metadata": {
        "id": "4sxDA67Ep01t",
        "colab_type": "code",
        "colab": {}
      },
      "cell_type": "code",
      "source": [
        "train_batch_gen = SiameseBatchGenerator.from_directory(dirname=train_data_path)\n",
        "test_batch_gen = SiameseBatchGenerator.from_directory(dirname=test_data_path)\n",
        "\n",
        "def siams_generator(batch_gen, batch_size=None):\n",
        "    while True:\n",
        "        batch_xs, batch_ys = batch_gen.next_batch(batch_size)\n",
        "        yield [batch_xs[0], batch_xs[1]], batch_ys"
      ],
      "execution_count": 0,
      "outputs": []
    },
    {
      "metadata": {
        "id": "d-2WjRv1eK9E",
        "colab_type": "code",
        "colab": {
          "base_uri": "https://localhost:8080/",
          "height": 104
        },
        "outputId": "d04861ca-94c1-4799-9d99-083a1cb907c1"
      },
      "cell_type": "code",
      "source": [
        "siams.fit_generator(\n",
        "    generator=siams_generator(train_batch_gen),\n",
        "    steps_per_epoch=100,\n",
        "    epochs=50,\n",
        "    verbose=1,\n",
        "    validation_data=siams_generator(test_batch_gen),\n",
        "    validation_steps=30,\n",
        "    shuffle=True\n",
        "    #callbacks=[\n",
        "     #   EarlyStopping(min_delta=1e-2, patience=7, mode='min', verbose=1),\n",
        "      #  ReduceLROnPlateau(factor=0.2, patience=5, mode='min', verbose=1),\n",
        "      #  ModelCheckpoint(callback_path, save_weights_only=True, mode='min', verbose=1)]\n",
        ")"
      ],
      "execution_count": 0,
      "outputs": [
        {
          "output_type": "stream",
          "text": [
            "Epoch 1/50\n",
            "100/100 [==============================] - 76s 763ms/step - loss: 2329.9938 - acc: 0.0338 - val_loss: 3.1066 - val_acc: 0.1042\n",
            "Epoch 2/50\n",
            " 31/100 [========>.....................] - ETA: 41s - loss: 2.0634 - acc: 0.2621"
          ],
          "name": "stdout"
        }
      ]
    },
    {
      "metadata": {
        "id": "AGpTRoY7mnoD",
        "colab_type": "code",
        "colab": {}
      },
      "cell_type": "code",
      "source": [
        "from pdd.models import TfKNN\n",
        "from pdd.utils.data_utils import create_dataset_from_dir\n",
        "\n",
        "from sklearn.metrics import accuracy_score"
      ],
      "execution_count": 0,
      "outputs": []
    },
    {
      "metadata": {
        "id": "tNS4o1RwnC67",
        "colab_type": "code",
        "colab": {}
      },
      "cell_type": "code",
      "source": [
        "train_dataset = create_dataset_from_dir(train_data_path, shuffle=True)\n",
        "test_dataset = create_dataset_from_dir(test_data_path, shuffle=True)"
      ],
      "execution_count": 0,
      "outputs": []
    },
    {
      "metadata": {
        "id": "5v9jPTaLmtah",
        "colab_type": "code",
        "colab": {}
      },
      "cell_type": "code",
      "source": [
        "tfknn = TfKNN(sess, feature_extractor, (train_dataset['data'], train_dataset['target']))"
      ],
      "execution_count": 0,
      "outputs": []
    },
    {
      "metadata": {
        "id": "41rTBE78nnRa",
        "colab_type": "code",
        "colab": {
          "base_uri": "https://localhost:8080/",
          "height": 34
        },
        "outputId": "5c2a513a-9798-48f2-9fe9-61945785f6e8"
      },
      "cell_type": "code",
      "source": [
        "preds = tfknn.predict(test_dataset['data'], return_dist=True)\n",
        "accuracy = accuracy_score(test_dataset['target'], preds[0])\n",
        "print(\"Accuracy: %.2f\" % accuracy)"
      ],
      "execution_count": 28,
      "outputs": [
        {
          "output_type": "stream",
          "text": [
            "Accuracy: 0.30\n"
          ],
          "name": "stdout"
        }
      ]
    }
  ]
}